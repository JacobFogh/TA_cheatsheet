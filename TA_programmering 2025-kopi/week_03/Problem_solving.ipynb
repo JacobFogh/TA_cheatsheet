{
 "cells": [
  {
   "cell_type": "code",
   "execution_count": 22,
   "id": "1d01c0dc",
   "metadata": {},
   "outputs": [],
   "source": [
    "import math"
   ]
  },
  {
   "cell_type": "markdown",
   "id": "1cd08190",
   "metadata": {},
   "source": [
    "### Problem 3.8: Body Temperature"
   ]
  },
  {
   "cell_type": "code",
   "execution_count": 23,
   "id": "d1fc3ddc",
   "metadata": {},
   "outputs": [
    {
     "name": "stdout",
     "output_type": "stream",
     "text": [
      "The temperature 37.2 is normal\n"
     ]
    }
   ],
   "source": [
    "temperature = 37.2\n",
    "state = ''\n",
    "\n",
    "if temperature <= 35:\n",
    "    state = \"hypothermia\"\n",
    "    print(\"The temperature\", temperature, \"is\", state)\n",
    "elif 35 < temperature < 37.5:\n",
    "    state = \"normal\"\n",
    "    print(\"The temperature\", temperature, \"is\", state)\n",
    "elif 37.5 <= temperature < 40:\n",
    "    state = \"hyperthermia\"\n",
    "    print(\"The temperature\", temperature, \"is\", state)\n",
    "else: \n",
    "    state = \"hyperpyraxia\"\n",
    "    print(\"The temperature\", temperature, \"is\", state)"
   ]
  },
  {
   "cell_type": "markdown",
   "id": "631d4841",
   "metadata": {},
   "source": [
    "### Problem 3.9: Valid Class\n",
    "-------------"
   ]
  },
  {
   "cell_type": "code",
   "execution_count": 24,
   "id": "4f12d862",
   "metadata": {},
   "outputs": [
    {
     "name": "stdout",
     "output_type": "stream",
     "text": [
      "Class with 100 girls and 9 boys is valid: False\n"
     ]
    }
   ],
   "source": [
    "girl = 100\n",
    "boys = 9\n",
    "is_valid = False\n",
    "\n",
    "if (girl + boys) > 30 or  (girl + boys) < 20 or abs(girl - boys) > 5:\n",
    "    print(\"Class with\", girl, \"girls and\", boys, \"boys is valid:\", is_valid)\n",
    "else:\n",
    "    is_valid = True\n",
    "    print(\"Class with\", girl, \"girls and\", boys, \"boys is valid:\", is_valid)"
   ]
  },
  {
   "cell_type": "markdown",
   "id": "8cdb4a70",
   "metadata": {},
   "source": [
    "### Problem 3.10: Risk of Heart Attack"
   ]
  },
  {
   "cell_type": "code",
   "execution_count": 25,
   "id": "9ca7de5b",
   "metadata": {},
   "outputs": [
    {
     "name": "stdout",
     "output_type": "stream",
     "text": [
      "Age 64 weight 70 smoker False high risk False\n"
     ]
    }
   ],
   "source": [
    "age = 64\n",
    "weight = 70\n",
    "is_smoker = False\n",
    "high_risk = False\n",
    "\n",
    "if age < 18:\n",
    "    if weight < 60:\n",
    "        print(\"Age\", age, \"weight\", weight, \"smoker\", is_smoker, \"high risk\", high_risk)\n",
    "    else:\n",
    "        high_risk = True\n",
    "        print(\"Age\", age, \"weight\", weight, \"smoker\", is_smoker, \"high risk\", high_risk)\n",
    "elif 18 <= age <= 30:\n",
    "    print(\"Age\", age, \"weight\", weight, \"smoker\", is_smoker, \"high risk\", high_risk)\n",
    "else:\n",
    "    if is_smoker:\n",
    "        high_risk = True\n",
    "        print(\"Age\", age, \"weight\", weight, \"smoker\", is_smoker, \"high risk\", high_risk)\n",
    "    else:\n",
    "        print(\"Age\", age, \"weight\", weight, \"smoker\", is_smoker, \"high risk\", high_risk)"
   ]
  },
  {
   "cell_type": "markdown",
   "id": "f4d1b69c",
   "metadata": {},
   "source": [
    "### Problem 3.11: Triangle Type"
   ]
  },
  {
   "cell_type": "code",
   "execution_count": 26,
   "id": "cdd7cfc3",
   "metadata": {},
   "outputs": [
    {
     "name": "stdout",
     "output_type": "stream",
     "text": [
      "Not a triangle\n"
     ]
    }
   ],
   "source": [
    "a = 1\n",
    "b = 5\n",
    "c = 2\n",
    "triangle_type = ''\n",
    "\n",
    "if a <= 0 or b <= 0 or c <= 0:\n",
    "    triangle_type = \"Invalid lenghts\"\n",
    "    \n",
    "elif a + b < c or a + c < b or b + c < a:\n",
    "    triangle_type = \"Not a triangle\"\n",
    "    \n",
    "elif (a+b+c)/3 == a:\n",
    "    triangle_type = \"Equilateral\"\n",
    "    \n",
    "elif (a == b and a != c) or (a == c and a!=b) or (b == c and b != a):\n",
    "    triangle_type = \"Isosceles\"\n",
    "    \n",
    "else:\n",
    "    triangle_type = \"Scalene\"\n",
    "    \n",
    "print(triangle_type)"
   ]
  },
  {
   "cell_type": "markdown",
   "id": "3ba1d653",
   "metadata": {},
   "source": [
    "### Problem 3.12: Which Pond Animal?"
   ]
  },
  {
   "cell_type": "code",
   "execution_count": 27,
   "id": "fb4c5b0b",
   "metadata": {},
   "outputs": [
    {
     "name": "stdout",
     "output_type": "stream",
     "text": [
      "The animal is a Breaver\n"
     ]
    }
   ],
   "source": [
    "looks_like_beaver = True\n",
    "has_beak = False\n",
    "\n",
    "animal = \"\"\n",
    "\n",
    "if has_beak == True and looks_like_beaver == True:\n",
    "    animal = 'Platypus'\n",
    "    print('The animal is a', animal)\n",
    "elif has_beak == True and looks_like_beaver == False:\n",
    "    animal = 'Duck'\n",
    "    print('The animal is a', animal)\n",
    "elif has_beak == False and looks_like_beaver == True:\n",
    "    animal = 'Breaver'\n",
    "    print('The animal is a', animal)\n",
    "else:\n",
    "    animal = 'Fish'\n",
    "    print('The animal is a', animal)"
   ]
  },
  {
   "cell_type": "markdown",
   "id": "e759b556",
   "metadata": {},
   "source": [
    "### Problem 3.13: Battery Status"
   ]
  },
  {
   "cell_type": "code",
   "execution_count": 28,
   "id": "56285975",
   "metadata": {},
   "outputs": [
    {
     "name": "stdout",
     "output_type": "stream",
     "text": [
      "Battery status 55%. Fully charged in 81.0 min.\n"
     ]
    }
   ],
   "source": [
    "charge_percent = 55\n",
    "is_charging = True\n",
    "\n",
    "time_left = (100 - charge_percent)*(180 / 100)\n",
    "\n",
    "battery_status = \"\"\n",
    "\n",
    "if charge_percent == 100:\n",
    "    print(f\"The battery is fully charged\")\n",
    "elif charge_percent == 0:\n",
    "    print(f\"The battery has 0%\")\n",
    "elif charge_percent != (0 or 100) and is_charging == False:\n",
    "    print(f\"The battery is at {charge_percent}% power.\")\n",
    "else:\n",
    "    print(f\"Battery status {charge_percent}%. Fully charged in {time_left} min.\")\n"
   ]
  },
  {
   "cell_type": "markdown",
   "id": "fa8d3f6f",
   "metadata": {},
   "source": [
    "### Problem 3.14: Water Quality"
   ]
  },
  {
   "cell_type": "code",
   "execution_count": 29,
   "id": "9a332edc",
   "metadata": {},
   "outputs": [
    {
     "name": "stdout",
     "output_type": "stream",
     "text": [
      "Safe for fish\n"
     ]
    }
   ],
   "source": [
    "ph_level = 8\n",
    "oxy = 5\n",
    "\n",
    "if (ph_level >= 6 and ph_level <= 8) and (oxy >= 5):\n",
    "    print(\"Safe for fish\")\n",
    "elif (oxy < 5):\n",
    "    print(\"Low oxygen\")\n",
    "else: \n",
    "    print(\"Unhealthy pH\")"
   ]
  }
 ],
 "metadata": {
  "kernelspec": {
   "display_name": "Python 3",
   "language": "python",
   "name": "python3"
  },
  "language_info": {
   "codemirror_mode": {
    "name": "ipython",
    "version": 3
   },
   "file_extension": ".py",
   "mimetype": "text/x-python",
   "name": "python",
   "nbconvert_exporter": "python",
   "pygments_lexer": "ipython3",
   "version": "3.11.5"
  }
 },
 "nbformat": 4,
 "nbformat_minor": 5
}
