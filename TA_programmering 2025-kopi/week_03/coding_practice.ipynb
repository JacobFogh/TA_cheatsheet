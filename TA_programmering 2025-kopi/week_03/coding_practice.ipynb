{
 "cells": [
  {
   "cell_type": "markdown",
   "id": "e97551cd",
   "metadata": {},
   "source": [
    "### Code 3.1: Blood Pressure"
   ]
  },
  {
   "cell_type": "code",
   "execution_count": 2,
   "id": "d364fd13",
   "metadata": {},
   "outputs": [
    {
     "name": "stdout",
     "output_type": "stream",
     "text": [
      "Prehigh\n"
     ]
    }
   ],
   "source": [
    "systolic = 120\n",
    "diastolic = 65\n",
    "\n",
    "if systolic >= 160 or diastolic >= 100:\n",
    "    print(\"Stage 2 high\")\n",
    "elif systolic >= 140 or diastolic >= 90:\n",
    "    print(\"Stage 1 high\")\n",
    "elif systolic >= 120 or diastolic >= 80:\n",
    "    print(\"Prehigh\")\n",
    "elif systolic >= 90 or diastolic >= 60:\n",
    "    print(\"Normal\")\n",
    "else:\n",
    "    print(\"Low\")"
   ]
  },
  {
   "cell_type": "markdown",
   "id": "2efae1e4",
   "metadata": {},
   "source": [
    "### Code 3.2: Summer Days"
   ]
  },
  {
   "cell_type": "code",
   "execution_count": 3,
   "id": "1f02b2e3",
   "metadata": {},
   "outputs": [
    {
     "name": "stdout",
     "output_type": "stream",
     "text": [
      "Sprinklers and ice cream\n"
     ]
    }
   ],
   "source": [
    "temp = 25\n",
    "sun = True\n",
    "\n",
    "if(temp >= 25 and sun == True):\n",
    "    print(\"Sprinklers and ice cream\")\n",
    "elif(temp < 25 or sun==True):\n",
    "    print(\"only ice cream.\")"
   ]
  },
  {
   "cell_type": "markdown",
   "id": "dc34804f",
   "metadata": {},
   "source": [
    "### Code 3.3: How’s the Weather?"
   ]
  },
  {
   "cell_type": "code",
   "execution_count": 15,
   "id": "f80075c6",
   "metadata": {},
   "outputs": [
    {
     "name": "stdout",
     "output_type": "stream",
     "text": [
      "It is freesing\n"
     ]
    }
   ],
   "source": [
    "temperature = -2\n",
    "\n",
    "if temperature < 0:\n",
    "    print('It is freesing')\n",
    "elif temperature >= 0 and temperature <= 15:\n",
    "    print(\"It is cold\")\n",
    "elif temperature > 15 and temperature <= 25:\n",
    "    print(\"It is pleasant\")\n",
    "else:\n",
    "    print(\"It is hot\")"
   ]
  },
  {
   "cell_type": "markdown",
   "id": "1414611e",
   "metadata": {},
   "source": [
    "### Code 3.4: Christmas Presents"
   ]
  },
  {
   "cell_type": "code",
   "execution_count": 19,
   "id": "3e3de699",
   "metadata": {},
   "outputs": [
    {
     "name": "stdout",
     "output_type": "stream",
     "text": [
      "Radio is playing last chistmas\n",
      "No present today\n"
     ]
    }
   ],
   "source": [
    "month = \"December\"\n",
    "day = 22\n",
    "\n",
    "if month == \"December\" and day == 24:\n",
    "    print(\"Let's open present!\")\n",
    "    print(\"Radio is playing last chistmas\")\n",
    "elif month == \"December\":\n",
    "    print(\"Radio is playing last chistmas\")\n",
    "    print(\"No present today\")\n",
    "else: \n",
    "    print(\"No present today\")"
   ]
  },
  {
   "cell_type": "markdown",
   "id": "02966fea",
   "metadata": {},
   "source": [
    "### Code 3.5: Fix Buggy Code"
   ]
  },
  {
   "cell_type": "code",
   "execution_count": 1,
   "id": "5dc69791",
   "metadata": {},
   "outputs": [
    {
     "name": "stdout",
     "output_type": "stream",
     "text": [
      "7\n"
     ]
    }
   ],
   "source": [
    "x = 8\n",
    "y = 11\n",
    "z = 7\n",
    "\n",
    "\n",
    "if x > y and y > z:\n",
    "    largest = x\n",
    "elif y > z and z > x:\n",
    "    largest = y\n",
    "else:\n",
    "    largest = z\n",
    "\n",
    "print(largest)\n",
    "\n"
   ]
  },
  {
   "cell_type": "code",
   "execution_count": 6,
   "id": "0acc9835",
   "metadata": {},
   "outputs": [
    {
     "name": "stdout",
     "output_type": "stream",
     "text": [
      "Weekend\n"
     ]
    }
   ],
   "source": [
    "day_of_week = \"Monday\"\n",
    "\n",
    "if day_of_week == \"Saturday\" or \"Sunday\":\n",
    "    print(\"Weekend\")\n",
    "else:\n",
    "    print(\"Work work.\")"
   ]
  },
  {
   "cell_type": "markdown",
   "id": "976a576d",
   "metadata": {},
   "source": [
    "### Code 3.6: Ordinal for Digit"
   ]
  },
  {
   "cell_type": "code",
   "execution_count": null,
   "id": "e2a335a0",
   "metadata": {},
   "outputs": [],
   "source": [
    "digit = 6\n",
    "ordinal = ''\n",
    "\n",
    "if digit == 1:\n",
    "    ordinal = \"1st\"\n",
    "    print(\"The digit is: \", digit, \"and the ordinal is: \", ordinal )\n",
    "elif digit == 2:\n",
    "    ordinal = \"2nd\"\n",
    "    print(\"The digit is: \", digit, \"and the ordinal is: \", ordinal )\n",
    "elif digit == 3:\n",
    "    ordinal = \"3rd\"\n",
    "    print(\"The digit is: \", digit, \"and the ordinal is: \", ordinal )\n",
    "else:\n",
    "    ordinal = str(digit) + \"th\"\n",
    "    print(\"The digit is: \", digit, \"and the ordinal is: \", ordinal )"
   ]
  },
  {
   "cell_type": "markdown",
   "id": "ba113956",
   "metadata": {},
   "source": [
    "### Code 3.7: Special Case"
   ]
  },
  {
   "cell_type": "code",
   "execution_count": 8,
   "id": "de760dc7",
   "metadata": {},
   "outputs": [
    {
     "name": "stdout",
     "output_type": "stream",
     "text": [
      "30.0\n"
     ]
    }
   ],
   "source": [
    "number_of_experiments = 1\n",
    "number_of_successes = 30\n",
    "\n",
    "if number_of_experiments == 0:\n",
    "    print('The probability of success is undefined, since the number of experiments is 0')\n",
    "else:\n",
    "    probability_of_success = number_of_successes / number_of_experiments\n",
    "    print(probability_of_success)"
   ]
  },
  {
   "cell_type": "code",
   "execution_count": 2,
   "id": "94479568",
   "metadata": {},
   "outputs": [
    {
     "name": "stdout",
     "output_type": "stream",
     "text": [
      "present\n"
     ]
    }
   ],
   "source": [
    "month = \"December\"\n",
    "day = 24\n",
    "\n",
    "if (month == \"December\") and (day == 24):\n",
    "    print(\"present\")\n",
    "elif (month != \"December\") or (day != 24):\n",
    "    print(\"No presents\")"
   ]
  }
 ],
 "metadata": {
  "kernelspec": {
   "display_name": "Python 3",
   "language": "python",
   "name": "python3"
  },
  "language_info": {
   "codemirror_mode": {
    "name": "ipython",
    "version": 3
   },
   "file_extension": ".py",
   "mimetype": "text/x-python",
   "name": "python",
   "nbconvert_exporter": "python",
   "pygments_lexer": "ipython3",
   "version": "3.11.5"
  }
 },
 "nbformat": 4,
 "nbformat_minor": 5
}
