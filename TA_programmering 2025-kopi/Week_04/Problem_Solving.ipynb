{
 "cells": [
  {
   "cell_type": "markdown",
   "id": "a995f687",
   "metadata": {},
   "source": [
    "## Problem Solving\n",
    "-----------"
   ]
  },
  {
   "cell_type": "markdown",
   "id": "32d7d711",
   "metadata": {},
   "source": [
    "### Problem 4.8: Radioactive Deca"
   ]
  },
  {
   "cell_type": "code",
   "execution_count": 3,
   "id": "38783079",
   "metadata": {},
   "outputs": [
    {
     "name": "stdout",
     "output_type": "stream",
     "text": [
      "The amount left after 1 hours is 2.25\n",
      "The amount left after 2 hours is 2.025\n",
      "The amount left after 3 hours is 1.8225\n",
      "The amount left after 4 hours is 1.64025\n",
      "The amount left after 5 hours is 1.4762250000000001\n",
      "The amount left after 6 hours is 1.3286025000000001\n",
      "The amount left after 7 hours is 1.1957422500000001\n",
      "The amount left after 8 hours is 1.076168025\n",
      "The amount left after 9 hours is 0.9685512225000001\n",
      "The amount left after 10 hours is 0.8716961002500001\n"
     ]
    }
   ],
   "source": [
    "R = 0.9  # remaining fraction after each hour\n",
    "amount = 2.5\n",
    "hours = 10\n",
    "\n",
    "for i in range(1, hours + 1):\n",
    "    amount = amount - (1 - R) * amount\n",
    "    print(f\"The amount left after {i} hours is {amount}\")\n",
    "\n"
   ]
  },
  {
   "cell_type": "markdown",
   "id": "46059887",
   "metadata": {},
   "source": [
    "### Problem 4.9: Half-Life"
   ]
  },
  {
   "cell_type": "code",
   "execution_count": 7,
   "id": "0c26193c",
   "metadata": {},
   "outputs": [
    {
     "name": "stdout",
     "output_type": "stream",
     "text": [
      "The amount left after 1 hours is 4.875\n",
      "The amount left after 2 hours is 3.65625\n",
      "The amount left after 3 hours is 2.7421875\n",
      "The amount is below half after 3 hours\n"
     ]
    }
   ],
   "source": [
    "R = 0.75\n",
    "amount = 6.5\n",
    "halv = amount / 2\n",
    "hours = 1\n",
    "\n",
    "while amount > halv:\n",
    "    amount = amount - (1 - R) * amount\n",
    "    print(f\"The amount left after {hours} hours is {amount}\")\n",
    "    hours += 1\n",
    "\n",
    "print(f\"The amount is below half after {hours - 1} hours\")"
   ]
  },
  {
   "cell_type": "markdown",
   "id": "8900009c",
   "metadata": {},
   "source": [
    "### Problem 4.10: Collatz Conjecture"
   ]
  },
  {
   "cell_type": "code",
   "execution_count": 12,
   "id": "917d2dac",
   "metadata": {},
   "outputs": [
    {
     "name": "stdout",
     "output_type": "stream",
     "text": [
      "Stopped after 46 steps\n"
     ]
    }
   ],
   "source": [
    "n = 127\n",
    "\n",
    "steps = 0\n",
    "\n",
    "while n != 1:\n",
    "    if n % 2 == 1:\n",
    "        n = 3 * n + 1\n",
    "        steps += 1\n",
    "    else:\n",
    "        n = n /2\n",
    "        steps += 1\n",
    "    \n",
    "print(f\"Stopped after {steps} steps\")\n",
    "    "
   ]
  },
  {
   "cell_type": "markdown",
   "id": "08099b7e",
   "metadata": {},
   "source": [
    "### Problem 4.11: Rabbit Population"
   ]
  },
  {
   "cell_type": "code",
   "execution_count": 14,
   "id": "ec933cb8",
   "metadata": {},
   "outputs": [
    {
     "name": "stdout",
     "output_type": "stream",
     "text": [
      "Month 1 : 0 baby, 2 child, 0 adult\n",
      "Month 2 : 0 baby, 0 child, 2 adult\n",
      "Month 3 : 6 baby, 0 child, 2 adult\n",
      "Month 4 : 6 baby, 6 child, 2 adult\n",
      "Month 5 : 6 baby, 6 child, 8 adult\n"
     ]
    }
   ],
   "source": [
    "adult = 0\n",
    "child = 0\n",
    "baby = 2\n",
    "k = 3\n",
    "\n",
    "months = 5\n",
    "\n",
    "for i in range(1, months + 1):\n",
    "    new_adult = adult + child\n",
    "    new_child = baby\n",
    "    new_baby = k * adult\n",
    "\n",
    "    print(f\"Month {i} : {new_baby} baby, {new_child} child, {new_adult} adult\")\n",
    "\n",
    "    adult = new_adult\n",
    "    child = new_child\n",
    "    baby = new_baby"
   ]
  },
  {
   "cell_type": "markdown",
   "id": "eb01dace",
   "metadata": {},
   "source": [
    "### Problem 4.12: Debt"
   ]
  },
  {
   "cell_type": "code",
   "execution_count": null,
   "id": "d9b978ce",
   "metadata": {},
   "outputs": [],
   "source": [
    "count = 0 \n",
    "total_payment = 0.0\n",
    "\n",
    "debt = 20000\n",
    "monthly_payment = 2000\n",
    "interest_rate = 0.05\n",
    "\n",
    "while debt > 0:\n",
    "    # læg månedens rente til først\n",
    "    debt = debt + (debt * interest_rate)\n",
    "\n",
    "    if debt <= monthly_payment:\n",
    "        total_payment += debt    # betal hele restbeløbet inkl. rente\n",
    "        debt = 0\n",
    "    else:\n",
    "        total_payment += monthly_payment\n",
    "        debt -= monthly_payment\n",
    "\n",
    "    count += 1\n",
    "\n",
    "print(f\"Debt paid after {count} months.\")\n",
    "print(f\"Total payment {total_payment:.2f} kr.\")"
   ]
  },
  {
   "cell_type": "markdown",
   "id": "113f1f18",
   "metadata": {},
   "source": [
    "### Problem 4.13: Number of Windows"
   ]
  },
  {
   "cell_type": "code",
   "execution_count": 24,
   "id": "5ea9cf61",
   "metadata": {},
   "outputs": [
    {
     "name": "stdout",
     "output_type": "stream",
     "text": [
      "We need 32 windows for a house with side lenght 20\n",
      "We need 32 windows for a house with side lenght 21\n",
      "We need 36 windows for a house with side lenght 22\n",
      "We need 36 windows for a house with side lenght 23\n",
      "We need 136 windows in total\n"
     ]
    }
   ],
   "source": [
    "window_width = 1.5\n",
    "window_spacing = 1\n",
    "minimum_side_length = 20\n",
    "maximum_side_length = 23\n",
    "\n",
    "total_count = 0\n",
    "for i in range( (maximum_side_length - minimum_side_length) + 1):\n",
    "    count = 0\n",
    "    meters = 0\n",
    "    while True:\n",
    "        if minimum_side_length - meters < 1.5:\n",
    "            break\n",
    "        else:\n",
    "            meters += 1.5\n",
    "            count += 1\n",
    "            meters += 1\n",
    "    total_count += count*4\n",
    "    print('We need', count*4, 'windows for a house with side lenght', minimum_side_length)\n",
    "    minimum_side_length += 1\n",
    "print('We need', total_count, 'windows in total')\n"
   ]
  },
  {
   "cell_type": "markdown",
   "id": "4d7fbd3b",
   "metadata": {},
   "source": [
    "### Problem 4.14: Pythagorean Triples\n"
   ]
  },
  {
   "cell_type": "code",
   "execution_count": null,
   "id": "4261b857",
   "metadata": {},
   "outputs": [],
   "source": [
    "n_search_max = 20\n",
    "\n",
    "for a in range(1, n_search_max + 1):\n",
    "    for b in range(a, n_search_max + 1):  # start from 'a' to avoid duplicates like (3, 4, 5) and (4, 3, 5)\n",
    "        for c in range(b, n_search_max + 1):  # start from 'b' for similar reason\n",
    "            if a**2 + b**2 == c**2:\n",
    "                    print(f\"{a} {b} {c} is a pythagoren triple\")"
   ]
  },
  {
   "cell_type": "markdown",
   "id": "24688ad0",
   "metadata": {},
   "source": [
    "### Problem 4.15: Disease Simulation \n"
   ]
  },
  {
   "cell_type": "code",
   "execution_count": null,
   "id": "8c38b5e1",
   "metadata": {},
   "outputs": [],
   "source": [
    "population = 1000\n",
    "infectious = 1\n",
    "infection_rate = 0.0004\n",
    "recovery_rate = 0.2\n",
    "days = 100\n",
    "\n",
    "susceptible = population - infectious\n",
    "recovered = 0\n",
    "\n",
    "for i in range(1, days + 1):\n",
    "    new_susceptible = susceptible - infection_rate * susceptible * infectious\n",
    "    new_infectious = infectious + infection_rate * susceptible * infectious - recovery_rate * infectious\n",
    "    new_recovered = recovered + recovery_rate * infectious\n",
    "\n",
    "    susceptible = new_susceptible\n",
    "    infectious = new_infectious\n",
    "    recovered = new_recovered\n",
    "\n",
    "    if int(i) % 10 == 0:\n",
    "        print(F'Day {i}, Susceptible: {round(susceptible)}, Infectious: {round(infectious)}, Recovered: {round(recovered)}')"
   ]
  },
  {
   "cell_type": "markdown",
   "id": "1527b095",
   "metadata": {},
   "source": [
    "### Problem 4.16: Which Tetrahedral"
   ]
  },
  {
   "cell_type": "code",
   "execution_count": 27,
   "id": "adf8950e",
   "metadata": {},
   "outputs": [
    {
     "name": "stdout",
     "output_type": "stream",
     "text": [
      "171700 is a tetrahedral number with n = 100\n"
     ]
    }
   ],
   "source": [
    "tjek = 171700\n",
    "n = 0\n",
    "T = 0\n",
    "while True:\n",
    "    T = (n*(n + 1)*(n + 2))/6\n",
    "    n +=1\n",
    "    if T > tjek:\n",
    "        print(tjek, 'is not a tetrahedral number')\n",
    "        break\n",
    "    elif T == tjek:\n",
    "        print(tjek, 'is a tetrahedral number with n =', n-1)\n",
    "        break"
   ]
  }
 ],
 "metadata": {
  "kernelspec": {
   "display_name": "Python 3",
   "language": "python",
   "name": "python3"
  },
  "language_info": {
   "codemirror_mode": {
    "name": "ipython",
    "version": 3
   },
   "file_extension": ".py",
   "mimetype": "text/x-python",
   "name": "python",
   "nbconvert_exporter": "python",
   "pygments_lexer": "ipython3",
   "version": "3.11.5"
  }
 },
 "nbformat": 4,
 "nbformat_minor": 5
}
