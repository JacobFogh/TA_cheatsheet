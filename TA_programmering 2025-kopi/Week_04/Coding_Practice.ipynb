{
 "cells": [
  {
   "cell_type": "markdown",
   "id": "d00ff709",
   "metadata": {},
   "source": [
    "## Coding Practice\n",
    "----------"
   ]
  },
  {
   "cell_type": "markdown",
   "id": "9e919a33",
   "metadata": {},
   "source": [
    "### Code 4.1: Fish Population"
   ]
  },
  {
   "cell_type": "code",
   "execution_count": 3,
   "id": "eb6fb333",
   "metadata": {},
   "outputs": [
    {
     "name": "stdout",
     "output_type": "stream",
     "text": [
      "17750.0\n",
      "21187.5\n",
      "25484.375\n",
      "30855.46875\n",
      "37569.3359375\n",
      "45961.669921875\n",
      "56452.08740234375\n",
      "69565.10925292969\n",
      "85956.38656616211\n",
      "106445.48320770264\n"
     ]
    }
   ],
   "source": [
    "r = 0.25\n",
    "population = 15000\n",
    "licenses = 1000\n",
    "\n",
    "years = 10\n",
    "\n",
    "for i in range(years):\n",
    "    new = population + (r * population) - licenses\n",
    "    print(new)\n",
    "\n",
    "    population = new\n"
   ]
  },
  {
   "cell_type": "markdown",
   "id": "a70e7187",
   "metadata": {},
   "source": [
    "### Code 4.2: Candy Exchange"
   ]
  },
  {
   "cell_type": "code",
   "execution_count": 9,
   "id": "ce70a2e8",
   "metadata": {},
   "outputs": [
    {
     "name": "stdout",
     "output_type": "stream",
     "text": [
      "30\n",
      "31\n",
      "31\n"
     ]
    }
   ],
   "source": [
    "candy = 25\n",
    "\n",
    "paper = 0\n",
    "\n",
    "total_candy = candy\n",
    "\n",
    "while True:\n",
    "    paper = candy\n",
    "\n",
    "    candy = paper // 5\n",
    "\n",
    "    total_candy += candy\n",
    "    print(total_candy)\n",
    "\n",
    "    if candy <=0:\n",
    "        break"
   ]
  },
  {
   "cell_type": "markdown",
   "id": "e28e4d7e",
   "metadata": {},
   "source": [
    "### Code 4.3: Printing Song Lyrics"
   ]
  },
  {
   "cell_type": "code",
   "execution_count": 10,
   "id": "ed47b65f",
   "metadata": {},
   "outputs": [
    {
     "name": "stdout",
     "output_type": "stream",
     "text": [
      "Around the world, around the world\n",
      "Around the world, around the world\n"
     ]
    }
   ],
   "source": [
    "line = \"Around the world, around the world\"\n",
    "\n",
    "for i in range(2):\n",
    "    print(line)"
   ]
  },
  {
   "cell_type": "markdown",
   "id": "8009ce2c",
   "metadata": {},
   "source": [
    "### Code 4.4: Printing Numbers"
   ]
  },
  {
   "cell_type": "code",
   "execution_count": null,
   "id": "a7d89027",
   "metadata": {},
   "outputs": [
    {
     "name": "stdout",
     "output_type": "stream",
     "text": [
      "1\n",
      "2\n",
      "3\n",
      "4\n",
      "5\n",
      "6\n",
      "7\n",
      "8\n",
      "9\n",
      "10\n",
      "11\n",
      "12\n",
      "13\n",
      "14\n",
      "15\n",
      "16\n",
      "17\n",
      "18\n",
      "19\n",
      "20\n"
     ]
    }
   ],
   "source": [
    "\n",
    "for i in range(1, 20 + 1):\n",
    "    print(i)"
   ]
  },
  {
   "cell_type": "code",
   "execution_count": 13,
   "id": "0bf2e9ac",
   "metadata": {},
   "outputs": [
    {
     "name": "stdout",
     "output_type": "stream",
     "text": [
      "1 2 3 4 5 6 7 8 9 10 11 12 13 14 15 16 17 18 19 20 \n"
     ]
    }
   ],
   "source": [
    "empty = \"\"\n",
    "\n",
    "for i in range(1, 20 + 1):\n",
    "    i = str(i) + \" \"\n",
    "    empty += i\n",
    "\n",
    "print(empty)"
   ]
  },
  {
   "cell_type": "markdown",
   "id": "ffeabcbe",
   "metadata": {},
   "source": [
    "### Code 4.5: Sum of Numbers"
   ]
  },
  {
   "cell_type": "code",
   "execution_count": 16,
   "id": "f5598b88",
   "metadata": {},
   "outputs": [
    {
     "name": "stdout",
     "output_type": "stream",
     "text": [
      "The sum of natural numbers up to 5 is 15\n"
     ]
    }
   ],
   "source": [
    "n = 5\n",
    "\n",
    "summen = 0\n",
    "\n",
    "for i in range(1, n + 1):\n",
    "    summen += i\n",
    "\n",
    "print(f\"The sum of natural numbers up to {n} is {summen}\")"
   ]
  },
  {
   "cell_type": "markdown",
   "id": "cc1da94c",
   "metadata": {},
   "source": [
    "### Code 4.6: Factorial (Buddy-Exercise)"
   ]
  },
  {
   "cell_type": "code",
   "execution_count": null,
   "id": "21406b91",
   "metadata": {},
   "outputs": [
    {
     "name": "stdout",
     "output_type": "stream",
     "text": [
      "1! = 1 = 1\n",
      "2! = 1 * 2 = 2\n",
      "3! = 1 * 2 * 3 = 6\n",
      "4! = 1 * 2 * 3 * 4 = 24\n",
      "5! = 1 * 2 * 3 * 4 * 5 = 120\n"
     ]
    }
   ],
   "source": [
    "n = 5\n",
    "fact_str = \"\"\n",
    "solution = 1\n",
    "for i in range(1, n + 1):\n",
    "    fact_str = fact_str + str(i)\n",
    "    solution = solution * i\n",
    "    print(str(i) + \"! =\", fact_str, \"=\", solution)\n",
    "    fact_str = fact_str + \" * \"\n",
    " "
   ]
  },
  {
   "cell_type": "code",
   "execution_count": 18,
   "id": "d62d2012",
   "metadata": {},
   "outputs": [
    {
     "name": "stdout",
     "output_type": "stream",
     "text": [
      "1! = 1 = 1\n",
      "2! = 1 * 2 = 2\n",
      "3! = 1 * 2 * 3 = 6\n",
      "4! = 1 * 2 * 3 * 4 = 24\n",
      "5! = 1 * 2 * 3 * 4 * 5 = 120\n"
     ]
    }
   ],
   "source": [
    "n = 5\n",
    "for i in range(1, n + 1):\n",
    "    fact_str = str(i) + \"! = 1\"\n",
    "    solution = 1\n",
    "    for j in range(2, i +1 ):\n",
    "        fact_str = fact_str + \" * \" + str(j)\n",
    "        solution = solution * j\n",
    "    print(fact_str + \" = \" + str(solution))"
   ]
  },
  {
   "cell_type": "markdown",
   "id": "ae4805e9",
   "metadata": {},
   "source": [
    "### Code 4.7: Printing a Pyramid\n"
   ]
  },
  {
   "cell_type": "code",
   "execution_count": 33,
   "id": "9f0f7e76",
   "metadata": {},
   "outputs": [
    {
     "name": "stdout",
     "output_type": "stream",
     "text": [
      "     *\n",
      "    ***\n",
      "   *****\n",
      "  *******\n",
      " *********\n"
     ]
    }
   ],
   "source": [
    "height = 5\n",
    "space = height - 1\n",
    "\n",
    "for i in range(1, height * 2, 2):\n",
    "    print(space * \" \", i * \"*\")\n",
    "    space -= 1\n"
   ]
  },
  {
   "cell_type": "code",
   "execution_count": 34,
   "id": "2c594f6e",
   "metadata": {},
   "outputs": [
    {
     "name": "stdout",
     "output_type": "stream",
     "text": [
      "    *\n",
      "   ***\n",
      "  *****\n",
      " *******\n",
      "*********\n"
     ]
    }
   ],
   "source": [
    "height = 5\n",
    "\n",
    "for i in range(1, height + 1):\n",
    "    spaces = ' ' * (height - i)    # antal foranstillede mellemrum\n",
    "    stars  = '*' * (2*i - 1)       # antal stjerner i rækken\n",
    "    print(spaces + stars)"
   ]
  }
 ],
 "metadata": {
  "kernelspec": {
   "display_name": "Python 3",
   "language": "python",
   "name": "python3"
  },
  "language_info": {
   "codemirror_mode": {
    "name": "ipython",
    "version": 3
   },
   "file_extension": ".py",
   "mimetype": "text/x-python",
   "name": "python",
   "nbconvert_exporter": "python",
   "pygments_lexer": "ipython3",
   "version": "3.11.5"
  }
 },
 "nbformat": 4,
 "nbformat_minor": 5
}
