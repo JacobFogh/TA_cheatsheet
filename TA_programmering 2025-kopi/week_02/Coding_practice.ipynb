{
 "cells": [
  {
   "cell_type": "code",
   "execution_count": 13,
   "id": "5d13ec49",
   "metadata": {},
   "outputs": [],
   "source": [
    "import math"
   ]
  },
  {
   "cell_type": "markdown",
   "id": "5390a9d3",
   "metadata": {},
   "source": [
    "### Code 2.1: Arrival Times"
   ]
  },
  {
   "cell_type": "code",
   "execution_count": 12,
   "id": "f5c63f0b",
   "metadata": {},
   "outputs": [
    {
     "name": "stdout",
     "output_type": "stream",
     "text": [
      "the train will arrive 5 after 0\n"
     ]
    }
   ],
   "source": [
    "delay = 35\n",
    "hours = 23\n",
    "minu = 30\n",
    "\n",
    "total_min = minu + delay\n",
    "arrivel_min = total_min % 60\n",
    "\n",
    "total_hour = hours + (total_min // 60)\n",
    "arrivel_hour = total_hour % 24\n",
    "\n",
    "\n",
    "print(f\"the train will arrive {arrivel_min} after {arrivel_hour}\")"
   ]
  },
  {
   "cell_type": "markdown",
   "id": "cc5fb187",
   "metadata": {},
   "source": [
    "### Code 2.2: Photo Grid"
   ]
  },
  {
   "cell_type": "code",
   "execution_count": 16,
   "id": "c8ab8d5f",
   "metadata": {},
   "outputs": [
    {
     "name": "stdout",
     "output_type": "stream",
     "text": [
      "A grid of size 5x5 is needed, leaving 8 empty cells\n"
     ]
    }
   ],
   "source": [
    "num_photos = 17\n",
    "\n",
    "side = math.ceil(math.sqrt(num_photos))\n",
    "\n",
    "empty = side**2 - 17\n",
    "\n",
    "print(f\"A grid of size {side}x{side} is needed, leaving {empty} empty cells\")"
   ]
  },
  {
   "cell_type": "markdown",
   "id": "a8a8945e",
   "metadata": {},
   "source": [
    "### Code 2.3: Name and Age"
   ]
  },
  {
   "cell_type": "code",
   "execution_count": 25,
   "id": "c3209fe5",
   "metadata": {},
   "outputs": [
    {
     "name": "stdout",
     "output_type": "stream",
     "text": [
      "Age has the value 20 and is of the type <class 'int'>\n",
      "Name has the value Josefine and is of the type <class 'str'>\n"
     ]
    }
   ],
   "source": [
    "age = 20\n",
    "name = 'Josefine'\n",
    "\n",
    "age_type = type(age)\n",
    "name_type = type(name)\n",
    "\n",
    "\n",
    "print(f\"Age has the value {age} and is of the type {age_type}\")\n",
    "print(f\"Name has the value {name} and is of the type {name_type}\")"
   ]
  },
  {
   "cell_type": "markdown",
   "id": "f54a0d73",
   "metadata": {},
   "source": [
    "### Code 2.4: Small Sentences"
   ]
  },
  {
   "cell_type": "code",
   "execution_count": 20,
   "id": "c856e8cf",
   "metadata": {},
   "outputs": [
    {
     "name": "stdout",
     "output_type": "stream",
     "text": [
      "The question is How many days old is Josefine? and the answer is 2920\n"
     ]
    }
   ],
   "source": [
    "que = \"How many days old is Josefine?\"\n",
    "answer = age * 365\n",
    "\n",
    "print(f\"The question is {que} and the answer is {answer}\")"
   ]
  },
  {
   "cell_type": "markdown",
   "id": "ac8e2b26",
   "metadata": {},
   "source": [
    "### Code 2.5: Adult"
   ]
  },
  {
   "cell_type": "code",
   "execution_count": 26,
   "id": "9c67121a",
   "metadata": {},
   "outputs": [
    {
     "name": "stdout",
     "output_type": "stream",
     "text": [
      "True\n"
     ]
    }
   ],
   "source": [
    "is_adult = (age >= 18)\n",
    "\n",
    "print(is_adult)"
   ]
  },
  {
   "cell_type": "markdown",
   "id": "06e09bfa",
   "metadata": {},
   "source": [
    "### Code 2.6: Are You a Student at DTU?"
   ]
  },
  {
   "cell_type": "code",
   "execution_count": 31,
   "id": "1e1ebb9a",
   "metadata": {},
   "outputs": [
    {
     "name": "stdout",
     "output_type": "stream",
     "text": [
      "True\n"
     ]
    }
   ],
   "source": [
    "is_student = True\n",
    "student_campus = 'Ballerup'\n",
    "\n",
    "is_dtu_student = ((is_student == True) and (student_campus =='Lyngby' or student_campus == \"Ballerup\"))\n",
    "\n",
    "print(is_dtu_student)"
   ]
  },
  {
   "cell_type": "markdown",
   "id": "c14ef38d",
   "metadata": {},
   "source": [
    "### Code 2.7: New Record"
   ]
  },
  {
   "cell_type": "code",
   "execution_count": 39,
   "id": "741516dd",
   "metadata": {},
   "outputs": [
    {
     "name": "stdout",
     "output_type": "stream",
     "text": [
      "5.42\n"
     ]
    }
   ],
   "source": [
    "current_record = 5.21\n",
    "new_record_attempt = 5.42\n",
    "\n",
    "current_record = max(current_record, new_record_attempt)\n",
    "\n",
    "new_record_attempt = 5.35\n",
    "current_record = max(current_record, new_record_attempt)\n",
    "\n",
    "print(current_record)"
   ]
  },
  {
   "cell_type": "markdown",
   "id": "c1979be3",
   "metadata": {},
   "source": [
    "### Code 2.8: Full Rotations"
   ]
  },
  {
   "cell_type": "code",
   "execution_count": 41,
   "id": "783a0f1b",
   "metadata": {},
   "outputs": [
    {
     "name": "stdout",
     "output_type": "stream",
     "text": [
      "The amount of rotations is 4 and there is 300 degrees left\n"
     ]
    }
   ],
   "source": [
    "total = 1740\n",
    "full = 360 \n",
    "\n",
    "rotations = total // full\n",
    "\n",
    "left_degress = total % full\n",
    "\n",
    "print(f\"The amount of rotations is {rotations} and there is {left_degress} degrees left\")"
   ]
  },
  {
   "cell_type": "markdown",
   "id": "7bea9091",
   "metadata": {},
   "source": [
    "### Code 2.9: Predict Execution"
   ]
  },
  {
   "cell_type": "code",
   "execution_count": 44,
   "id": "87635770",
   "metadata": {},
   "outputs": [
    {
     "name": "stdout",
     "output_type": "stream",
     "text": [
      "7 15.5\n"
     ]
    }
   ],
   "source": [
    "a = 15.5\n",
    "b = a\n",
    "a = 7\n",
    "\n",
    "print(a,b)"
   ]
  },
  {
   "cell_type": "code",
   "execution_count": 43,
   "id": "978345c7",
   "metadata": {},
   "outputs": [
    {
     "name": "stdout",
     "output_type": "stream",
     "text": [
      "3 3\n"
     ]
    }
   ],
   "source": [
    "a = 5\n",
    "b = 3\n",
    "a = b\n",
    "b = a\n",
    "\n",
    "print(a, b)"
   ]
  },
  {
   "cell_type": "code",
   "execution_count": 45,
   "id": "aab87417",
   "metadata": {},
   "outputs": [
    {
     "name": "stdout",
     "output_type": "stream",
     "text": [
      "3\n"
     ]
    }
   ],
   "source": [
    "i = 15\n",
    "i = 1 + 1\n",
    "i = i + 1\n",
    "\n",
    "print(i)"
   ]
  },
  {
   "cell_type": "code",
   "execution_count": 46,
   "id": "45c8235c",
   "metadata": {},
   "outputs": [
    {
     "name": "stdout",
     "output_type": "stream",
     "text": [
      "xxabcabcyxabcabcyy\n"
     ]
    }
   ],
   "source": [
    "letters = 'abc'\n",
    "letters = 'x' + 2 * letters + 'y'\n",
    "letters = 'x' + 2 * letters + 'y'\n",
    "\n",
    "print(letters)"
   ]
  },
  {
   "cell_type": "markdown",
   "id": "fea8a9d4",
   "metadata": {},
   "source": [
    "### Code 2.10: Swap Values"
   ]
  },
  {
   "cell_type": "code",
   "execution_count": 47,
   "id": "23726f6a",
   "metadata": {},
   "outputs": [
    {
     "name": "stdout",
     "output_type": "stream",
     "text": [
      "3 5\n"
     ]
    }
   ],
   "source": [
    "a = 5\n",
    "b = 3\n",
    "\n",
    "a = b\n",
    "b = a + 2\n",
    "\n",
    "print(a,b)\n",
    "\n"
   ]
  }
 ],
 "metadata": {
  "kernelspec": {
   "display_name": "Python 3",
   "language": "python",
   "name": "python3"
  },
  "language_info": {
   "codemirror_mode": {
    "name": "ipython",
    "version": 3
   },
   "file_extension": ".py",
   "mimetype": "text/x-python",
   "name": "python",
   "nbconvert_exporter": "python",
   "pygments_lexer": "ipython3",
   "version": "3.11.5"
  }
 },
 "nbformat": 4,
 "nbformat_minor": 5
}
