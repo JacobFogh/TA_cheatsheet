{
 "cells": [
  {
   "cell_type": "code",
   "execution_count": 1,
   "id": "f409198e",
   "metadata": {},
   "outputs": [],
   "source": [
    "import math"
   ]
  },
  {
   "cell_type": "markdown",
   "id": "100c21a1",
   "metadata": {},
   "source": [
    "### Problem 2.11: Volume of a Sphere"
   ]
  },
  {
   "cell_type": "code",
   "execution_count": 3,
   "id": "d2712b49",
   "metadata": {},
   "outputs": [
    {
     "name": "stdout",
     "output_type": "stream",
     "text": [
      "The volume of the sphere with a radius is 6 is 904.7786842338604\n"
     ]
    }
   ],
   "source": [
    "r = 6\n",
    "\n",
    "V = 4/3 * r**3 * math.pi\n",
    "\n",
    "print(f\"The volume of the sphere with a radius is {r} is {V}\")"
   ]
  },
  {
   "cell_type": "markdown",
   "id": "cc2fa2f6",
   "metadata": {},
   "source": [
    "### Problem 2.12: Determining Bacterial Contamination"
   ]
  },
  {
   "cell_type": "code",
   "execution_count": 8,
   "id": "55f471d4",
   "metadata": {},
   "outputs": [
    {
     "name": "stdout",
     "output_type": "stream",
     "text": [
      "Contaminated: False\n"
     ]
    }
   ],
   "source": [
    "start = 500\n",
    "final_population = 2872\n",
    "hours = 3\n",
    "\n",
    "increased = final_population - start\n",
    "\n",
    "growth_pr_hour = increased / hours\n",
    "\n",
    "Contaminated = (600 >= growth_pr_hour and growth_pr_hour >= 800)\n",
    "\n",
    "print(f\"Contaminated: {Contaminated}\")\n",
    "\n"
   ]
  },
  {
   "cell_type": "markdown",
   "id": "b997f84b",
   "metadata": {},
   "source": [
    "### Problem 2.13: Health Analysis"
   ]
  },
  {
   "cell_type": "code",
   "execution_count": 40,
   "id": "65493eb1",
   "metadata": {},
   "outputs": [
    {
     "name": "stdout",
     "output_type": "stream",
     "text": [
      "BMI is: 20.761245674740486\n",
      "BMI is in normal range: True\n",
      "PBF is: 25.953494809688586\n"
     ]
    }
   ],
   "source": [
    "# giv værdier her:\n",
    "age = 28\n",
    "weight = 60.0      # kg\n",
    "height = 1.70      # m\n",
    "sex = 'f'          # 'm' eller 'f'\n",
    "\n",
    "bmi = weight / (height ** 2)\n",
    "is_normal = 18.5 <= bmi < 25              # bool – ingen if nødvendig\n",
    "s = int(sex.lower() == 'm')               # 1 for mand, 0 for kvinde (uden if)\n",
    "\n",
    "pbf = 1.20 * bmi + 0.23 * age - 10.8 * s - 5.4\n",
    "\n",
    "print(\"BMI is:\", bmi)\n",
    "print(\"BMI is in normal range:\", is_normal)\n",
    "print(\"PBF is:\", pbf)\n",
    "\n"
   ]
  },
  {
   "cell_type": "markdown",
   "id": "2d7c0fd1",
   "metadata": {},
   "source": [
    "### Problem 2.14: Population Modeling"
   ]
  },
  {
   "cell_type": "code",
   "execution_count": 25,
   "id": "bca56efb",
   "metadata": {},
   "outputs": [
    {
     "name": "stdout",
     "output_type": "stream",
     "text": [
      "111\n",
      "Time to population of 4000 is 9 year(s) and 3 month(s).\n"
     ]
    }
   ],
   "source": [
    "start = 1000\n",
    "rate = 0.15 \n",
    "final = 4000\n",
    "\n",
    "t_years = round(1/rate * (math.log(final / start)), 5)\n",
    "\n",
    "\n",
    "total_months = round(t_years * 12)\n",
    "print(total_months)\n",
    "\n",
    "rounded_years = total_months // 12\n",
    "\n",
    "rounded_months = total_months % 12\n",
    "\n",
    "print(f\"Time to population of {final} is {rounded_years} year(s) and {rounded_months} month(s).\")"
   ]
  },
  {
   "cell_type": "markdown",
   "id": "dcb45da3",
   "metadata": {},
   "source": [
    "### Problem 2.15: Golf Stroke Analysis"
   ]
  },
  {
   "cell_type": "code",
   "execution_count": 29,
   "id": "0dc5d64c",
   "metadata": {},
   "outputs": [
    {
     "name": "stdout",
     "output_type": "stream",
     "text": [
      "Range: 113 meters. Time of flight: 4.17 seconds.\n"
     ]
    }
   ],
   "source": [
    "v0 = 34\n",
    "theta = 37\n",
    "g = 9.821\n",
    "\n",
    "radian = (math.pi * theta)/180\n",
    "\n",
    "R = (v0**2 * math.sin(2*radian)) / g\n",
    "\n",
    "v_y = v0 * math.sin(radian)\n",
    "\n",
    "T = (2 * v_y) / g\n",
    "\n",
    "print(f\"Range: {round(R)} meters. Time of flight: {round(T, 2)} seconds.\")\n",
    "\n",
    "#emmas range 80 meter og flight er 4.1 sekund \n",
    "#frederiks range 113 og flight 4.17 sekund \n",
    "#josefine range 83 og flight 5.52\n"
   ]
  },
  {
   "cell_type": "markdown",
   "id": "aaea475c",
   "metadata": {},
   "source": [
    "### Problem 2.16: Normal Range"
   ]
  },
  {
   "cell_type": "code",
   "execution_count": 30,
   "id": "86b570d6",
   "metadata": {},
   "outputs": [
    {
     "name": "stdout",
     "output_type": "stream",
     "text": [
      "53.464999999999996\n",
      "72.24999999999999\n",
      "For a height of  1.7 m, the normal weight range is between 53 and  73 kg.\n"
     ]
    }
   ],
   "source": [
    "height = 1.7\n",
    "\n",
    "normal_low = 18.5 * height**2\n",
    "normal_high = 25 * height**2\n",
    "\n",
    "print(normal_low)\n",
    "print(normal_high)\n",
    "\n",
    "print(\"For a height of \", height, \"m, the normal weight range is between\", math.floor(normal_low), \"and \", math.ceil(normal_high), \"kg.\")"
   ]
  },
  {
   "cell_type": "markdown",
   "id": "9c51292a",
   "metadata": {},
   "source": [
    "### Problem 2.17: Bed Fits"
   ]
  },
  {
   "cell_type": "code",
   "execution_count": 39,
   "id": "acc78127",
   "metadata": {},
   "outputs": [
    {
     "name": "stdout",
     "output_type": "stream",
     "text": [
      "False\n"
     ]
    }
   ],
   "source": [
    "bed_width = 0.9\n",
    "bed_height = 2\n",
    "\n",
    "wedth = 2.6\n",
    "height = 1.9\n",
    "\n",
    "\n",
    "if (wedth > bed_width) and (height > bed_height):\n",
    "    bed_fits = True\n",
    "else:\n",
    "    bed_fits = False\n",
    "\n",
    "\n",
    "print(bed_fits)"
   ]
  }
 ],
 "metadata": {
  "kernelspec": {
   "display_name": "Python 3",
   "language": "python",
   "name": "python3"
  },
  "language_info": {
   "codemirror_mode": {
    "name": "ipython",
    "version": 3
   },
   "file_extension": ".py",
   "mimetype": "text/x-python",
   "name": "python",
   "nbconvert_exporter": "python",
   "pygments_lexer": "ipython3",
   "version": "3.11.5"
  }
 },
 "nbformat": 4,
 "nbformat_minor": 5
}
