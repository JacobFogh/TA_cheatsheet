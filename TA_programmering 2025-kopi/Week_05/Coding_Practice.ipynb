{
 "cells": [
  {
   "cell_type": "code",
   "execution_count": 9,
   "id": "a264c8b9",
   "metadata": {},
   "outputs": [],
   "source": [
    "import math"
   ]
  },
  {
   "cell_type": "markdown",
   "id": "026d1580",
   "metadata": {},
   "source": [
    "## Coding Practice\n",
    "----------"
   ]
  },
  {
   "cell_type": "markdown",
   "id": "888d98cd",
   "metadata": {},
   "source": [
    "### Code 5.1: Fall Duration"
   ]
  },
  {
   "cell_type": "code",
   "execution_count": 10,
   "id": "de048f3e",
   "metadata": {},
   "outputs": [
    {
     "name": "stdout",
     "output_type": "stream",
     "text": [
      "4.515236409857309\n"
     ]
    }
   ],
   "source": [
    "def fall_duration(meters):\n",
    "    t = math.sqrt((2 * meters) / 9.81)\n",
    "    return t\n",
    "\n",
    "print(fall_duration(100))"
   ]
  },
  {
   "cell_type": "markdown",
   "id": "d7f7356d",
   "metadata": {},
   "source": [
    "### Code 5.2: Customized Greeting"
   ]
  },
  {
   "cell_type": "code",
   "execution_count": 11,
   "id": "a5cbd08c",
   "metadata": {},
   "outputs": [
    {
     "name": "stdout",
     "output_type": "stream",
     "text": [
      "Good morning\n"
     ]
    }
   ],
   "source": [
    "def customized_greeting(hours, mins):\n",
    "    if (hours >= 4 and mins >= 30) and (hours <= 12):\n",
    "        return \"Good morning\"\n",
    "    elif (hours > 12) and (hours <= 17 and mins <= 30):\n",
    "        return \"Good afternoon\"\n",
    "    elif (hours >= 17 and mins > 30) and (hours <= 23):\n",
    "        return \"Good evning\" \n",
    "    else:\n",
    "        return \"Good night\"\n",
    "\n",
    "\n",
    "\n",
    "\n",
    "print(customized_greeting(4, 30))"
   ]
  },
  {
   "cell_type": "markdown",
   "id": "a2d4b4ce",
   "metadata": {},
   "source": [
    "### Code 5.3: Function Testing (Buddy-Exercise)"
   ]
  },
  {
   "cell_type": "code",
   "execution_count": 12,
   "id": "c209b03e",
   "metadata": {},
   "outputs": [],
   "source": [
    "# def count_a(s):\n",
    "#     return 0\n",
    "\n",
    "# test1 = count_a(\"banana\") == 3\n",
    "# test2 = count_a(\"apple\") == 1  # starting with 'a'\n",
    "# test3 = count_a(\"drape\") == 1  # containing 'a' \n",
    "# test4 = count_a(\"milla\") == 1  # ending with 'a'\n",
    "# test5 = count_a(\"cherry\") == 0  # no 'a's\n",
    "# test6 = count_a(\"\") == 0  # empty string\n",
    "# test7 = count_a(\"Aardvark\") == 2  # case sensitivity\n",
    "# test8 = count_a(\"aaaaaa\") == 6  # all 'a's\n",
    "# all_tests_passed = (test1 and test2 and test3 and test4 and test5 and test6 \n",
    "#         and test7 and test8)\n",
    "\n",
    "# print(\"All tests passed:\", all_tests_passed)\n",
    "# if not all_tests_passed:\n",
    "#     print(\"Individual test results:\", test1, test2, test3, test4, test5, test6, \n",
    "#             test7, test8)"
   ]
  },
  {
   "cell_type": "markdown",
   "id": "1207492c",
   "metadata": {},
   "source": [
    "### Code 5.4: Number Digits"
   ]
  },
  {
   "cell_type": "code",
   "execution_count": 13,
   "id": "09774e7b",
   "metadata": {},
   "outputs": [
    {
     "name": "stdout",
     "output_type": "stream",
     "text": [
      "1\n",
      "2\n",
      "3\n"
     ]
    }
   ],
   "source": [
    "def number_digits(n):\n",
    "    return len(str(n))\n",
    "\n",
    "print(number_digits(1))\n",
    "print(number_digits(14))\n",
    "print(number_digits(111))"
   ]
  },
  {
   "cell_type": "code",
   "execution_count": 14,
   "id": "9e455743",
   "metadata": {},
   "outputs": [
    {
     "name": "stdout",
     "output_type": "stream",
     "text": [
      "All tests passed: True\n"
     ]
    }
   ],
   "source": [
    "test1 = number_digits(1) == 1\n",
    "test2 = number_digits(12) == 2\n",
    "test3 = number_digits(123) == 3\n",
    "\n",
    "all_tests_passed = (test1 and test2 and test3)\n",
    "print(\"All tests passed:\", all_tests_passed)\n",
    "if not all_tests_passed:\n",
    "    print(\"Individual test results:\", test1, test2, test3)\n"
   ]
  },
  {
   "cell_type": "markdown",
   "id": "6bf2d331",
   "metadata": {},
   "source": [
    "### Code 5.5: Next Even"
   ]
  },
  {
   "cell_type": "code",
   "execution_count": 15,
   "id": "76c103d6",
   "metadata": {},
   "outputs": [
    {
     "name": "stdout",
     "output_type": "stream",
     "text": [
      "4\n",
      "6\n"
     ]
    }
   ],
   "source": [
    "def next_even(n):\n",
    "    if n % 2 == 0:\n",
    "        return n + 2\n",
    "    else:\n",
    "        return n + 1\n",
    "\n",
    "print(next_even(3))\n",
    "print(next_even(4))"
   ]
  },
  {
   "cell_type": "code",
   "execution_count": 16,
   "id": "310b51f1",
   "metadata": {},
   "outputs": [
    {
     "name": "stdout",
     "output_type": "stream",
     "text": [
      "All tests passed: True\n"
     ]
    }
   ],
   "source": [
    "test_even1 = next_even(3) == 4\n",
    "test_even2 = next_even(4) == 6\n",
    "test_even3 = next_even(13) == 14\n",
    "\n",
    "all_tests_passed = (test_even1 and test_even2 and test_even3)\n",
    "print(\"All tests passed:\", all_tests_passed)\n",
    "if not all_tests_passed:\n",
    "    print(\"Individual test results:\", test_even1, test_even2, test_even3)"
   ]
  },
  {
   "cell_type": "markdown",
   "id": "adfe3e5f",
   "metadata": {},
   "source": [
    "### Code 5.6: Cylinder Volume"
   ]
  },
  {
   "cell_type": "code",
   "execution_count": null,
   "id": "be82f7ea",
   "metadata": {},
   "outputs": [
    {
     "name": "stdout",
     "output_type": "stream",
     "text": [
      "28.274333882308138\n",
      "The volume of a cylinder with a radius of 3 and height of 4 is 113.09733552923255\n"
     ]
    }
   ],
   "source": [
    "def disc_area(radius):\n",
    "    A = math.pi * radius**2\n",
    "    return A\n",
    "\n",
    "print(disc_area(3))\n",
    "\n",
    "def cylinder_volume(rad, height):\n",
    "\n",
    "    V = disc_area(rad) * height\n",
    "\n",
    "    return f\"The volume of a cylinder with a radius of {rad} and height of {height} is {V}\"\n",
    "\n",
    "print(cylinder_volume(3, 4))"
   ]
  }
 ],
 "metadata": {
  "kernelspec": {
   "display_name": "Python 3",
   "language": "python",
   "name": "python3"
  },
  "language_info": {
   "codemirror_mode": {
    "name": "ipython",
    "version": 3
   },
   "file_extension": ".py",
   "mimetype": "text/x-python",
   "name": "python",
   "nbconvert_exporter": "python",
   "pygments_lexer": "ipython3",
   "version": "3.11.5"
  }
 },
 "nbformat": 4,
 "nbformat_minor": 5
}
