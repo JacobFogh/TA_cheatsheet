{
 "cells": [
  {
   "cell_type": "code",
   "execution_count": 1,
   "metadata": {},
   "outputs": [
    {
     "name": "stdout",
     "output_type": "stream",
     "text": [
      "(4,6)\n"
     ]
    }
   ],
   "source": [
    "# Question 1\n",
    "\n",
    "class Vector2D:\n",
    "    def __init__(self,x,y):\n",
    "        self.x = x\n",
    "        self.y = y\n",
    "\n",
    "    def __add__(self,other): # overwrites the '+' function\n",
    "        return Vector2D(self.x + other.x,self.y + other.y)\n",
    "    \n",
    "    def __str__(self): # overwrites the print() function\n",
    "        return f'({self.x},{self.y})'\n",
    "    \n",
    "v1 = Vector2D(1, 2)\n",
    "v2 = Vector2D(3, 4)\n",
    "v3 = v1 + v2\n",
    "\n",
    "print(v3)"
   ]
  },
  {
   "cell_type": "code",
   "execution_count": 2,
   "metadata": {},
   "outputs": [
    {
     "data": {
      "text/plain": [
       "231"
      ]
     },
     "execution_count": 2,
     "metadata": {},
     "output_type": "execute_result"
    }
   ],
   "source": [
    "# Question 2:\n",
    "\n",
    "from math import ceil, floor \n",
    "\n",
    "def icecream_sales(temperature,sales_init):\n",
    "\n",
    "    sales = 0\n",
    "    \n",
    "    day_before = sales_init # need to save the sales from the day before\n",
    "\n",
    "    for temp in temperature:\n",
    "        if temp >= 25:\n",
    "            daily_sale = ceil(1.5*day_before - 5)\n",
    "        else:\n",
    "            daily_sale = floor(0.9*day_before + 2)\n",
    "\n",
    "        sales += daily_sale\n",
    "        day_before = daily_sale # update the sales from day before each day!\n",
    "\n",
    "    return sales\n",
    "\n",
    "temperature = [17,26,28,15,18,24,26,26,27,19,13,20]\n",
    "sales_init = 12\n",
    "\n",
    "icecream_sales(temperature,sales_init)"
   ]
  },
  {
   "cell_type": "code",
   "execution_count": 3,
   "metadata": {},
   "outputs": [
    {
     "data": {
      "text/plain": [
       "[2, 3, 2, -1, 1]"
      ]
     },
     "execution_count": 3,
     "metadata": {},
     "output_type": "execute_result"
    }
   ],
   "source": [
    "# Question 3:\n",
    "\n",
    "def unique_elements(data):\n",
    "\n",
    "    rows = data.split(';') # split into rows\n",
    "\n",
    "    elements = []\n",
    "    organized_data = []\n",
    "\n",
    "    for row in rows:\n",
    "        organized_data.append(row.split(',')) # split the rows into columns\n",
    "\n",
    "    for k in range(len(organized_data[0])):\n",
    "        col = [organized_data[i][k] for i in range(len(rows))] # takes the ith element from all k rows\n",
    "\n",
    "        if 'True' in col or 'False' in col: # if a boolean is found in the column\n",
    "            elements.append(-1)        \n",
    "        else:\n",
    "            elements.append(len(set(col))) # otherwise keep the length of unique values in column\n",
    "\n",
    "    return elements\n",
    "\n",
    "data = \"54,2,'black',True,-3;54,1,'gray',99,-3;36,0,'black',0,-3\"\n",
    "unique_elements(data)"
   ]
  },
  {
   "cell_type": "code",
   "execution_count": 4,
   "metadata": {},
   "outputs": [
    {
     "data": {
      "text/plain": [
       "6.4"
      ]
     },
     "execution_count": 4,
     "metadata": {},
     "output_type": "execute_result"
    }
   ],
   "source": [
    "# Question 4\n",
    "\n",
    "def grades(students,subject):\n",
    "\n",
    "    class_size = len(students)\n",
    "\n",
    "    grade = []\n",
    "    n_dna = 0\n",
    "   \n",
    "    for student in students:\n",
    "        student_grade = students[student][subject]\n",
    "        if student_grade == 'DNA':\n",
    "            n_dna += 1\n",
    "        else:\n",
    "            grade.append(student_grade)\n",
    "\n",
    "    # edge cases    \n",
    "    # if then entire class didn't attend\n",
    "    if class_size == n_dna:\n",
    "        return 'DNA'\n",
    "    \n",
    "    avg_without_dna = sum(grade) / (class_size - n_dna) # find avg of class that came\n",
    "\n",
    "    avg_with_dna = (sum(grade) + n_dna * round(avg_without_dna)) / class_size # add that value to DNA, and compute new mean\n",
    "    \n",
    "    return avg_with_dna\n",
    "\n",
    "\n",
    "students = {'Emma' : {'Math' : 7, 'Programming' : 10},\n",
    "        'Thomas': {'Math' : 12, 'Programming' : 12},\n",
    "        'Philip': {'Math' : 'DNA', 'Programming' : 2},\n",
    "        'Judie': {'Math' : 2, 'Programming' : 0},\n",
    "        'Mike': {'Math' : 12, 'Programming' : 'DNA'},\n",
    "        'Daniel': {'Math' : 12, 'Programming' : 'DNA'},\n",
    "        'Elizabeth': {'Math' : 10, 'Programming' : 12},\n",
    "        'Ollie': {'Math' : 'DNA', 'Programming' : 7},\n",
    "        'Cathy': {'Math' : 12, 'Programming' : 12},\n",
    "        'Louise': {'Math' : 'DNA', 'Programming' : -3}\n",
    "        }\n",
    "\n",
    "# edge case\n",
    "#students = {'Emma' : {'Math' : 7, 'Programming' : 'DNA'}}\n",
    "\n",
    "subject = 'Programming'\n",
    "\n",
    "grades(students,subject)"
   ]
  },
  {
   "cell_type": "code",
   "execution_count": 7,
   "metadata": {},
   "outputs": [],
   "source": [
    "# Question 6\n",
    "\n",
    "def count_of_words(filepath):\n",
    "    nb_words = []\n",
    "\n",
    "    with open(filepath,'r') as file:\n",
    "        for line in file: # look at each line in the file\n",
    "            words = line.split(',') # split line into list of words\n",
    "            nb = 0\n",
    "            for word in words:\n",
    "                if word.count('a')>0 and word.count('e')>0: # if a and e can be found in each word\n",
    "                    nb += 1\n",
    "            nb_words.append(nb) # add count of words \n",
    "        \n",
    "    with open(\"Files_Hiboox/english_ae_count.csv\",'a') as file: # create file, and append to it\n",
    "        for item in nb_words:\n",
    "            file.write(str(item))\n",
    "            file.write(\"\\n\")\n",
    "\n",
    "filepath = \"Files_Hiboox/english_text.txt\"\n",
    "count_of_words(filepath)"
   ]
  }
 ],
 "metadata": {
  "kernelspec": {
   "display_name": "venv_hiboox",
   "language": "python",
   "name": "python3"
  },
  "language_info": {
   "codemirror_mode": {
    "name": "ipython",
    "version": 3
   },
   "file_extension": ".py",
   "mimetype": "text/x-python",
   "name": "python",
   "nbconvert_exporter": "python",
   "pygments_lexer": "ipython3",
   "version": "3.11.6"
  }
 },
 "nbformat": 4,
 "nbformat_minor": 2
}
