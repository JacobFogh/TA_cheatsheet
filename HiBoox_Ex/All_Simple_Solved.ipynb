{
 "cells": [
  {
   "cell_type": "code",
   "execution_count": 1,
   "metadata": {},
   "outputs": [
    {
     "data": {
      "text/plain": [
       "6"
      ]
     },
     "execution_count": 1,
     "metadata": {},
     "output_type": "execute_result"
    }
   ],
   "source": [
    "# Question 1\n",
    "def unique_authors(author_list):\n",
    "    return len(set(author_list))\n",
    "\n",
    "\n",
    "author_list = ['Hugo', 'Nietzsche', 'shakespeare', 'Walker', 'Camus', 'Moliere', 'Hugo','Nietzsche', 'Camus', 'Moliere', 'Walker', 'Nietzsche']\n",
    "unique_authors(author_list)"
   ]
  },
  {
   "cell_type": "code",
   "execution_count": 2,
   "metadata": {},
   "outputs": [
    {
     "data": {
      "text/plain": [
       "5"
      ]
     },
     "execution_count": 2,
     "metadata": {},
     "output_type": "execute_result"
    }
   ],
   "source": [
    "# Question 2\n",
    "def at_least_three_vowels(instrument_list):\n",
    "    count = 0\n",
    "    vowels = ['a','e','i','o','u','y']\n",
    "    for instrument in instrument_list:\n",
    "        \n",
    "        count_vowels = 0\n",
    "\n",
    "        for vowel in vowels:\n",
    "            count_vowels += instrument.count(vowel)\n",
    "        \n",
    "        if count_vowels >= 3:\n",
    "            count += 1\n",
    "    return count\n",
    "\n",
    "instruments_list = ['Guitar', 'Violin', 'Drums', 'Piano', 'Bass', 'Saxophone', 'Trumpet', 'Maracas', 'Banjo', 'Harp']\n",
    "at_least_three_vowels(instruments_list)"
   ]
  },
  {
   "cell_type": "code",
   "execution_count": 3,
   "metadata": {},
   "outputs": [
    {
     "data": {
      "text/plain": [
       "'ProgrAmming Is absolutely awesome.'"
      ]
     },
     "execution_count": 3,
     "metadata": {},
     "output_type": "execute_result"
    }
   ],
   "source": [
    "# Question 3\n",
    "def switch_letter_size(sentence,letter):\n",
    "    special_letter = [letter.upper(),letter.lower()]\n",
    "\n",
    "    new_sentence = \"\"\n",
    "    for char in sentence:\n",
    "\n",
    "        if char in special_letter: # Checks if either can find uppercase or lowercase letter\n",
    "            if char.isupper():\n",
    "                new_sentence += char.lower()\n",
    "            else:\n",
    "                new_sentence += char.upper()\n",
    "        else: # All other cases\n",
    "            new_sentence += char\n",
    "\n",
    "    return new_sentence\n",
    "\n",
    "sentence = 'Programming Is Absolutely Awesome.'\n",
    "letter = 'a'\n",
    "switch_letter_size(sentence,letter)"
   ]
  },
  {
   "cell_type": "code",
   "execution_count": 4,
   "metadata": {},
   "outputs": [
    {
     "data": {
      "text/plain": [
       "219677.88983840815"
      ]
     },
     "execution_count": 4,
     "metadata": {},
     "output_type": "execute_result"
    }
   ],
   "source": [
    "# Question 4\n",
    "from math import pi\n",
    "\n",
    "def my_sum(k):\n",
    "    sum = 0\n",
    "\n",
    "    for N in range(4,k+1):\n",
    "        sum += (2*pi*N**3) / (N-3)\n",
    "    \n",
    "    return sum\n",
    "my_sum(45)"
   ]
  },
  {
   "cell_type": "code",
   "execution_count": 5,
   "metadata": {},
   "outputs": [
    {
     "data": {
      "text/plain": [
       "[1, 4, 9, 16, 25]"
      ]
     },
     "execution_count": 5,
     "metadata": {},
     "output_type": "execute_result"
    }
   ],
   "source": [
    "# Question 5\n",
    "\n",
    "def square_numbers(n):\n",
    "\n",
    "    my_squares = []\n",
    "    k = 1\n",
    "\n",
    "    while k**2 <= n:\n",
    "        my_squares.append(k**2)\n",
    "        k+= 1\n",
    "\n",
    "    return my_squares\n",
    "\n",
    "n = 25\n",
    "square_numbers(n)"
   ]
  },
  {
   "cell_type": "code",
   "execution_count": 6,
   "metadata": {},
   "outputs": [
    {
     "data": {
      "text/plain": [
       "22"
      ]
     },
     "execution_count": 6,
     "metadata": {},
     "output_type": "execute_result"
    }
   ],
   "source": [
    "# Question 6\n",
    "\n",
    "\n",
    "def save_string_to_file(sentence,filename):\n",
    "    with open(filename,'w') as file: # creating my file with 'w' (write)\n",
    "        file.write(sentence)\n",
    "\n",
    "def count_letters_in_file(filename):\n",
    "    \n",
    "    with open(filename,'r') as file:\n",
    "        text = file.read()\n",
    "    \n",
    "    count = 0\n",
    "\n",
    "    for char in text:\n",
    "        if char.isalpha(): # check if character is in the alphabet\n",
    "            count += 1\n",
    "    \n",
    "    return count\n",
    "\n",
    "\n",
    "sentence = \"Hello, this is a test string!\"\n",
    "filename = \"Files_Hiboox/test_file.txt\"\n",
    "\n",
    "save_string_to_file(sentence,filename)\n",
    "count_letters_in_file(filename)"
   ]
  },
  {
   "cell_type": "code",
   "execution_count": 7,
   "metadata": {},
   "outputs": [
    {
     "data": {
      "text/plain": [
       "{'Dog': 1, 'Tiger': 2, 'Lion': 3, 'Dolphin': 2, 'Flamingo': 1, 'Monkey': 1}"
      ]
     },
     "execution_count": 7,
     "metadata": {},
     "output_type": "execute_result"
    }
   ],
   "source": [
    "# Question 7\n",
    "\n",
    "def get_animal_dictionary(animal_list):\n",
    "    animal_dict = {}\n",
    "\n",
    "    for animal in animal_list:\n",
    "        if animal in animal_dict.keys(): # is animal already seen add +1\n",
    "            animal_dict[animal] += 1\n",
    "        else:\n",
    "            animal_dict[animal] = 1 # if new animal create new key and value \n",
    "    \n",
    "    return animal_dict\n",
    "\n",
    "animal_list = ['Dog', 'Tiger', 'Lion', 'Dolphin', 'Flamingo', 'Monkey', 'Lion', 'Lion','Tiger', 'Dolphin']\n",
    "get_animal_dictionary(animal_list)"
   ]
  },
  {
   "cell_type": "code",
   "execution_count": 8,
   "metadata": {},
   "outputs": [
    {
     "data": {
      "text/plain": [
       "'The team is maintained'"
      ]
     },
     "execution_count": 8,
     "metadata": {},
     "output_type": "execute_result"
    }
   ],
   "source": [
    "# Question 8\n",
    "\n",
    "def football_result(goal_list):\n",
    "    total_goals = sum(goal_list)\n",
    "\n",
    "    if total_goals < 17:\n",
    "        status = 'relegated'\n",
    "\n",
    "    elif total_goals > 50:\n",
    "        scores_3_match = True\n",
    "        \n",
    "        for i in range(1,len(goal_list)-1): # check that sum of goals from t-1, t, t+1 always give more than 4\n",
    "            if goal_list[i-1] + goal_list[i] + goal_list[i+1] <= 4:\n",
    "                scores_3_match = False\n",
    "        \n",
    "        if scores_3_match == True:\n",
    "            status = 'promoted'\n",
    "        else:\n",
    "            status = 'maintained'\n",
    "    \n",
    "    else:\n",
    "        status = 'maintained'\n",
    "\n",
    "    sentence = f'The team is {status}'\n",
    "    return sentence\n",
    "\n",
    "goals_list = [2,7,2,3,5,0,1,2,4,6,3,3,4,2,3,2,6]\n",
    "\n",
    "football_result(goals_list)"
   ]
  },
  {
   "cell_type": "code",
   "execution_count": 9,
   "metadata": {},
   "outputs": [
    {
     "data": {
      "text/plain": [
       "22"
      ]
     },
     "execution_count": 9,
     "metadata": {},
     "output_type": "execute_result"
    }
   ],
   "source": [
    "# Question 9\n",
    "\n",
    "def consonants_count(sentence):\n",
    "    vowels = ['a','e','i','o','u','y']\n",
    "\n",
    "    count = 0\n",
    "\n",
    "    for letter in sentence:\n",
    "        if letter.lower() not in vowels and letter.isalpha():\n",
    "            count += 1\n",
    "\n",
    "    return count\n",
    "\n",
    "sentence = \"I didn't get this far just to get this far :)\"\n",
    "consonants_count(sentence)"
   ]
  },
  {
   "cell_type": "code",
   "execution_count": 10,
   "metadata": {},
   "outputs": [
    {
     "data": {
      "text/plain": [
       "201.06192982974676"
      ]
     },
     "execution_count": 10,
     "metadata": {},
     "output_type": "execute_result"
    }
   ],
   "source": [
    "# Question 10\n",
    "\n",
    "from math import pi\n",
    "\n",
    "class Circle:\n",
    "    def __init__(self,center,radius):\n",
    "        self.center = center\n",
    "        self.radius = radius\n",
    "\n",
    "    def get_area(self):\n",
    "        return pi * self.radius**2\n",
    "    \n",
    "\n",
    "center = [10,5]\n",
    "radius = 8\n",
    "\n",
    "my_circle = Circle(center,radius)\n",
    "my_circle.get_area()"
   ]
  },
  {
   "cell_type": "code",
   "execution_count": 11,
   "metadata": {},
   "outputs": [
    {
     "data": {
      "text/plain": [
       "[0, 1, 1, 2, 3, 5, 8, 13, 21, 34, 55]"
      ]
     },
     "execution_count": 11,
     "metadata": {},
     "output_type": "execute_result"
    }
   ],
   "source": [
    "# Question 11\n",
    "\n",
    "def Fibonacci(k):\n",
    "    \n",
    "    def recursion(n): # create recursion function\n",
    "        if n<2:\n",
    "            return n\n",
    "        else:\n",
    "            return recursion(n-1) + recursion(n-2)\n",
    "    \n",
    "    fib_list = []\n",
    "    for i in range(k): # loop through the first k elements and find value of recursion\n",
    "        fib_list.append(recursion(i))\n",
    "\n",
    "    return fib_list\n",
    "    \n",
    "k = 11\n",
    "Fibonacci(k)"
   ]
  },
  {
   "cell_type": "code",
   "execution_count": 12,
   "metadata": {},
   "outputs": [
    {
     "data": {
      "text/plain": [
       "(False, True)"
      ]
     },
     "execution_count": 12,
     "metadata": {},
     "output_type": "execute_result"
    }
   ],
   "source": [
    "# Question 12\n",
    "\n",
    "def Tom_fashion(event,snowing):\n",
    "\n",
    "    shorts = True\n",
    "    boots = False\n",
    "\n",
    "    if event:\n",
    "        shorts = False\n",
    "\n",
    "    if snowing: # if he wears boots, cannot have shorts\n",
    "        boots = True\n",
    "        shorts = False\n",
    "    \n",
    "    return (shorts,boots)\n",
    "\n",
    "event = False\n",
    "snowing = True\n",
    "\n",
    "Tom_fashion(event,snowing)"
   ]
  }
 ],
 "metadata": {
  "kernelspec": {
   "display_name": "venv_hiboox",
   "language": "python",
   "name": "python3"
  },
  "language_info": {
   "codemirror_mode": {
    "name": "ipython",
    "version": 3
   },
   "file_extension": ".py",
   "mimetype": "text/x-python",
   "name": "python",
   "nbconvert_exporter": "python",
   "pygments_lexer": "ipython3",
   "version": "3.11.6"
  }
 },
 "nbformat": 4,
 "nbformat_minor": 2
}
