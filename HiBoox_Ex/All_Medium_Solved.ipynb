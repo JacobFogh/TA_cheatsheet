{
 "cells": [
  {
   "cell_type": "code",
   "execution_count": 1,
   "metadata": {},
   "outputs": [
    {
     "data": {
      "text/plain": [
       "[114, 132, 245, 246]"
      ]
     },
     "execution_count": 1,
     "metadata": {},
     "output_type": "execute_result"
    }
   ],
   "source": [
    "# Question 1\n",
    "\n",
    "def save_energy(room_nb, bulb_type, number_of_bulbs):\n",
    "    watt_rooms = []\n",
    "\n",
    "    for i in range(len(room_nb)): # need index to find the values at same positions in other lists\n",
    "        if bulb_type[i] * number_of_bulbs[i] > 200:\n",
    "            watt_rooms.append(room_nb[i])\n",
    "    \n",
    "    if len(watt_rooms) == 0:\n",
    "        return -1\n",
    "\n",
    "    return watt_rooms\n",
    "\n",
    "room_nb = [110,112,114,131,132,133,245,246]\n",
    "bulb_type = [25,40,40,25,80,25,25,100]\n",
    "number_of_bulbs = [6,4,12,4,4,2,9,3]\n",
    "\n",
    "save_energy(room_nb, bulb_type, number_of_bulbs)"
   ]
  },
  {
   "cell_type": "code",
   "execution_count": 2,
   "metadata": {},
   "outputs": [
    {
     "data": {
      "text/plain": [
       "[8, 9, 10, 11]"
      ]
     },
     "execution_count": 2,
     "metadata": {},
     "output_type": "execute_result"
    }
   ],
   "source": [
    "# Question 2\n",
    "\n",
    "def smallest_product(list_of_numbers,k):\n",
    "    \n",
    "    reversed_list = list_of_numbers[::-1] # revert the list \n",
    "\n",
    "    for i in range(0,len(reversed_list)):\n",
    "        \n",
    "        sublist = reversed_list[:i] # get the sublist of size i\n",
    "        prod = 1\n",
    "\n",
    "        for element in sublist:\n",
    "            prod *=element\n",
    "        \n",
    "        if prod > k:\n",
    "            return sublist[::-1] # revert the list again\n",
    "    \n",
    "    return -1 # if didn't work, edge case\n",
    "\n",
    "list_of_numbers = [1,2,3,4,5,6,8,9,10,11]\n",
    "k = 2345\n",
    "\n",
    "smallest_product(list_of_numbers,k)        "
   ]
  },
  {
   "cell_type": "code",
   "execution_count": 3,
   "metadata": {},
   "outputs": [
    {
     "data": {
      "text/plain": [
       "13"
      ]
     },
     "execution_count": 3,
     "metadata": {},
     "output_type": "execute_result"
    }
   ],
   "source": [
    "# Question 3\n",
    "\n",
    "from math import ceil \n",
    "def total_chlorine(pH_level,pool_size):\n",
    "    total_chlorine = 0\n",
    "\n",
    "    for pH in pH_level:\n",
    "\n",
    "        if pH <= 7:\n",
    "            total_chlorine += 0.015 * pool_size / pH\n",
    "        else:\n",
    "            total_chlorine += 2 * 0.037 * pool_size / pH\n",
    "\n",
    "    n_bags = ceil(total_chlorine / 12) \n",
    "    return n_bags\n",
    "\n",
    "pH_level = [7.6,8.4,5.5,12,6.7,8.2,7.2]\n",
    "pool_size = 2998\n",
    "total_chlorine(pH_level,pool_size)"
   ]
  },
  {
   "cell_type": "code",
   "execution_count": 4,
   "metadata": {},
   "outputs": [],
   "source": [
    "# Question 5\n",
    "\n",
    "def decode(code_path):\n",
    "    \n",
    "    vowels = ['a','e','i','o','u','y']\n",
    "    signs = ['1','2','3','4','5','6']\n",
    "\n",
    "    with open(code_path,'r') as file:\n",
    "        message = file.read()\n",
    "    \n",
    "    decoded_message = \"\"\n",
    "    for letter in message:\n",
    "\n",
    "        if letter in signs:\n",
    "            index = signs.index(letter)\n",
    "            decoded_message += vowels[index]\n",
    "\n",
    "        elif letter in [\"?\",\"!\"]:\n",
    "            decoded_message += \" \"\n",
    "        else:\n",
    "            decoded_message += letter\n",
    "    \n",
    "    with open(code_path,'a') as file:\n",
    "        file.write(\"\\n\")\n",
    "        file.write(decoded_message)\n",
    "\n",
    "code_path = 'Files_Hiboox/secret_code.txt'\n",
    "decode(code_path)"
   ]
  },
  {
   "cell_type": "code",
   "execution_count": 5,
   "metadata": {},
   "outputs": [
    {
     "data": {
      "text/plain": [
       "{'nb_peaks': 5, 'nb_valleys': 4}"
      ]
     },
     "execution_count": 5,
     "metadata": {},
     "output_type": "execute_result"
    }
   ],
   "source": [
    "# Question 7 part 1\n",
    "\n",
    "def mountains(altitudes):\n",
    "\n",
    "    altitude_dict = {'nb_peaks':0,'nb_valleys':0}\n",
    "\n",
    "    for i in range(1,len(altitudes)-1):\n",
    "        \n",
    "        # Peak is if both values before and after are smaller\n",
    "        if altitudes[i] < altitudes[i-1] and altitudes[i] < altitudes[i+1]:\n",
    "            altitude_dict['nb_valleys'] += 1\n",
    "\n",
    "        # Valley is if both values before and after are larger\n",
    "        elif altitudes[i] > altitudes[i-1] and altitudes[i] > altitudes[i+1]:\n",
    "            altitude_dict['nb_peaks'] += 1\n",
    "    \n",
    "    return altitude_dict\n",
    "\n",
    "altitudes = [500,600,450,780,1203,1140,1400,1700,1530,1230,1224,1256,1400,1736,\n",
    "1895,1803,790,855,650,345]\n",
    "\n",
    "mountains(altitudes)"
   ]
  },
  {
   "cell_type": "code",
   "execution_count": 6,
   "metadata": {},
   "outputs": [
    {
     "data": {
      "image/png": "[encoded data removed]",
      "text/plain": [
       "<Figure size 640x480 with 1 Axes>"
      ]
     },
     "metadata": {},
     "output_type": "display_data"
    }
   ],
   "source": [
    "# Question 7 part 2\n",
    "\n",
    "import matplotlib.pyplot as plt\n",
    "\n",
    "def map_altitude(altitudes):\n",
    "\n",
    "    id_peaks = []\n",
    "    id_valleys = []\n",
    "    val_peaks = []\n",
    "    val_valleys = [] \n",
    "\n",
    "    for i in range(1,len(altitudes)-1):\n",
    "\n",
    "        if altitudes[i] < altitudes[i-1] and altitudes[i] < altitudes[i+1]:\n",
    "            id_valleys.append(i)\n",
    "            val_valleys.append(altitudes[i])\n",
    "        \n",
    "        elif altitudes[i] > altitudes[i-1] and altitudes[i] > altitudes[i+1]:\n",
    "            id_peaks.append(i)\n",
    "            val_peaks.append(altitudes[i])\n",
    "\n",
    "    plt.plot(altitudes,c='black') # by default if only one value, plots x:idx, y:value\n",
    "    plt.scatter(id_peaks,val_peaks,c = 'red',label = 'peaks') # scatter for plotting points, needs x and y\n",
    "    plt.scatter(id_valleys,val_valleys,c = 'green',label = 'valleys')\n",
    "    plt.title('Map of altitudes with peaks and valleys') # adds title at top of plots\n",
    "    plt.legend() # includes 'labels' defined in plt.scatter\n",
    "    plt.show() # shows plot\n",
    "\n",
    "altitudes = [500,600,450,780,1203,1140,1400,1700,1530,1230,1224,1256,1400,1736,\n",
    "1895,1803,790,855,650,345]\n",
    "\n",
    "map_altitude(altitudes)    "
   ]
  }
 ],
 "metadata": {
  "kernelspec": {
   "display_name": "Python 3",
   "language": "python",
   "name": "python3"
  },
  "language_info": {
   "codemirror_mode": {
    "name": "ipython",
    "version": 3
   },
   "file_extension": ".py",
   "mimetype": "text/x-python",
   "name": "python",
   "nbconvert_exporter": "python",
   "pygments_lexer": "ipython3",
   "version": "3.11.6"
  }
 },
 "nbformat": 4,
 "nbformat_minor": 2
}
