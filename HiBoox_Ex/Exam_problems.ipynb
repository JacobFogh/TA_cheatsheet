{
 "cells": [
  {
   "cell_type": "code",
   "execution_count": null,
   "metadata": {},
   "outputs": [],
   "source": [
    "# Question 1\n",
    "\n",
    "def Warren_helper(sentence):\n",
    "    clean_sentence = \"\"\n",
    "    \n",
    "    for letter in sentence:\n",
    "        if letter != '=':\n",
    "            clean_sentence += letter\n",
    "    \n",
    "    return clean_sentence\n",
    "\n",
    "sentence = \"=Hel=lo my so=n=, =it has been a whi=le=.\"\n",
    "Warren_helper(sentence)"
   ]
  },
  {
   "cell_type": "code",
   "execution_count": 1,
   "metadata": {},
   "outputs": [
    {
     "data": {
      "text/plain": [
       "6"
      ]
     },
     "execution_count": 1,
     "metadata": {},
     "output_type": "execute_result"
    }
   ],
   "source": [
    "# Question 2\n",
    "\n",
    "def shortest_string(word_list):\n",
    "    import math\n",
    "    shortest_string = math.inf\n",
    "    \n",
    "    for word in word_list:\n",
    "        if len(word) < shortest_string:\n",
    "            shortest_string= len(word)\n",
    "    return shortest_string\n",
    "\n",
    "word_list = ['Bonjour', 'Bonsoir', 'Formidable', 'Genial', 'Imprimeur', 'Musculation', 'Dejeuner', 'Tableau']\n",
    "shortest_string(word_list)\n"
   ]
  },
  {
   "cell_type": "code",
   "execution_count": 2,
   "metadata": {},
   "outputs": [
    {
     "data": {
      "text/plain": [
       "('Aalborg', 'Helsingoer', 'Aarhus')"
      ]
     },
     "execution_count": 2,
     "metadata": {},
     "output_type": "execute_result"
    }
   ],
   "source": [
    "# Question 3\n",
    "\n",
    "def podium(scores):\n",
    "    total_scores = []\n",
    "    names = []\n",
    "    for male,female,name in scores:\n",
    "        total_scores.append(male+female)\n",
    "        names.append(name)\n",
    "\n",
    "\n",
    "    top_three = []\n",
    "    for i in range(3):\n",
    "        index = total_scores.index(max(total_scores)) # find index of where the max score is\n",
    "\n",
    "        top_three.append(names[index]) # add name at that index \n",
    "\n",
    "        names.remove(names[index]) # remove the best score team name\n",
    "        total_scores.remove(total_scores[index]) # remove best score\n",
    "\n",
    "    return tuple(top_three)\n",
    "\n",
    "\n",
    "scores = [(10,12,'Lyngby'),(8,22,'Aarhus'),(26,23,'Helsingoer'),(10,13,'Roskilde'),(16,4,'Randers'),(2,23,'Silkeborg'),(19,34,'Aalborg')]\n",
    "podium(scores)"
   ]
  },
  {
   "cell_type": "code",
   "execution_count": 3,
   "metadata": {},
   "outputs": [
    {
     "data": {
      "text/plain": [
       "562"
      ]
     },
     "execution_count": 3,
     "metadata": {},
     "output_type": "execute_result"
    }
   ],
   "source": [
    "# Question 4\n",
    "\n",
    "def fastest_metro(stations,times,station1,station2):\n",
    "    \n",
    "    stations = stations.split(\" \") # split to have name of stations as list\n",
    "\n",
    "    # two ways, right or left.\n",
    "\n",
    "    id1 = stations.index(station1)\n",
    "    id2 = stations.index(station2)\n",
    "\n",
    "    if id1 > id2: # go from smallest id to biggest id, and time from id1 to id2 is the same as id2 to id1!\n",
    "        first_sum = sum(times[id2:id1])\n",
    "        second_sum = sum(times[id1:]) + sum(times[:id2])\n",
    "    else:\n",
    "        first_sum = sum(times[id1:id2])\n",
    "        second_sum = sum(times[id2:]) + sum(times[:id1])\n",
    "\n",
    "    routes = [first_sum,second_sum]\n",
    "\n",
    "    return min(routes)\n",
    "    \n",
    "stations = 'F AMH NP NR N SP VR PHP T OE M KN GS R KH EP FA'\n",
    "times = [95,120,134,85,82,99,93,101,106,92,110,87,92,103,127,97,123]\n",
    "station1 = 'KH'\n",
    "station2 = 'NP'\n",
    "\n",
    "fastest_metro(stations,times,station1,station2)"
   ]
  },
  {
   "cell_type": "code",
   "execution_count": 4,
   "metadata": {},
   "outputs": [
    {
     "name": "stdout",
     "output_type": "stream",
     "text": [
      "(2, 2, 2)\n"
     ]
    }
   ],
   "source": [
    "#Question 5\n",
    "\n",
    "class Spider_Man:\n",
    "    def __init__(self,x,y,z):\n",
    "        self.x = x\n",
    "        self.y = y\n",
    "        self.z = z\n",
    "\n",
    "    def update_position(self,list_of_commands):\n",
    "        \n",
    "        for command in list_of_commands:\n",
    "            if command == 'right':\n",
    "                self.x += 1\n",
    "            elif command == 'left':\n",
    "                self.x -= 1\n",
    "            elif command == 'forward':\n",
    "                self.y += 1\n",
    "            elif command == 'backward':\n",
    "                self.y -= 1\n",
    "            elif command == 'jump':\n",
    "                self.z += 1\n",
    "            elif command == 'down':\n",
    "                self.z -= 1\n",
    "    \n",
    "    def __str__(self):\n",
    "        return str((self.x,self.y,self.z))\n",
    "    \n",
    "Peter_Parker = Spider_Man(0, 0, 0)\n",
    "list_of_commands = [\"forward\",\"right\",\"jump\",\"right\",\"jump\",\"right\",\"forward\",\"down\",\"left\",\"jump\"]\n",
    "\n",
    "Peter_Parker.update_position(list_of_commands)\n",
    "print(Peter_Parker)"
   ]
  }
 ],
 "metadata": {
  "kernelspec": {
   "display_name": "Python 3",
   "language": "python",
   "name": "python3"
  },
  "language_info": {
   "codemirror_mode": {
    "name": "ipython",
    "version": 3
   },
   "file_extension": ".py",
   "mimetype": "text/x-python",
   "name": "python",
   "nbconvert_exporter": "python",
   "pygments_lexer": "ipython3",
   "version": "3.11.1"
  }
 },
 "nbformat": 4,
 "nbformat_minor": 2
}
